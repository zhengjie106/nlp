{
 "cells": [
  {
   "cell_type": "code",
   "execution_count": 11,
   "metadata": {},
   "outputs": [
    {
     "name": "stdout",
     "output_type": "stream",
     "text": [
      "value Kofi Annan  entity PERSON start 8 end 18\n"
     ]
    }
   ],
   "source": [
    "import plac\n",
    "import random\n",
    "from pathlib import Path\n",
    "import spacy\n",
    "from tqdm import tqdm #loading bar\n",
    "nlp1=spacy.load('en')\n",
    "docx1=nlp1(u\"who was Kofi Annan?\")\n",
    "for word in docx1.ents: \n",
    "    print(\"value\", word.text, \" entity\", word.label_, \"start\", word.start_char, \"end\", word.end_char)\n"
   ]
  },
  {
   "cell_type": "code",
   "execution_count": 12,
   "metadata": {},
   "outputs": [],
   "source": [
    "import json\n",
    "\n",
    "with open('convered_poplation1_ner_train_data.json','r') as f:\n",
    "    train_data=json.load(f)"
   ]
  },
  {
   "cell_type": "code",
   "execution_count": 13,
   "metadata": {},
   "outputs": [
    {
     "ename": "SyntaxError",
     "evalue": "unexpected EOF while parsing (<ipython-input-13-cb0503fe17ab>, line 5)",
     "output_type": "error",
     "traceback": [
      "\u001b[0;36m  File \u001b[0;32m\"<ipython-input-13-cb0503fe17ab>\"\u001b[0;36m, line \u001b[0;32m5\u001b[0m\n\u001b[0;31m    n_iter=(\"Number of training iterations\", \"option\", \"n\", int))\u001b[0m\n\u001b[0m                                                                 ^\u001b[0m\n\u001b[0;31mSyntaxError\u001b[0m\u001b[0;31m:\u001b[0m unexpected EOF while parsing\n"
     ]
    }
   ],
   "source": [
    "## annotate /Users/liver/jupyter/ner-train\n",
    "@plac.annotations(\n",
    "    model=(\"Model name. Defaults to blank 'en' model.\", \"option\", \"m\", str),\n",
    "    output_dir=(\"/Users/liver/jupyter/audit-pop1-ner-train\", \"option\", \"o\", Path),\n",
    "    n_iter=(\"Number of training iterations\", \"option\", \"n\", int))"
   ]
  },
  {
   "cell_type": "code",
   "execution_count": 14,
   "metadata": {},
   "outputs": [],
   "source": [
    "model=None\n",
    "output_dir=Path('/Users/liver/jupyter/audit-pop1-ner-train')\n",
    "n_iter=100"
   ]
  },
  {
   "cell_type": "code",
   "execution_count": 15,
   "metadata": {},
   "outputs": [
    {
     "name": "stdout",
     "output_type": "stream",
     "text": [
      "Created blank 'en' model\n"
     ]
    }
   ],
   "source": [
    "if model is not None: \n",
    "    nlp=spacy.load(model)\n",
    "    print(\"Loaded model '%s'\" % model)\n",
    "else: \n",
    "    nlp=spacy.blank('en')\n",
    "    print(\"Created blank 'en' model\")"
   ]
  },
  {
   "cell_type": "code",
   "execution_count": 16,
   "metadata": {},
   "outputs": [],
   "source": [
    "#setup the pipeline \n",
    "if 'ner'not in nlp.pipe_names: \n",
    "    ner=nlp.create_pipe('ner')\n",
    "    nlp.add_pipe(ner, last=True)\n",
    "else: \n",
    "    ner=nlp.get_pipe('ner')"
   ]
  },
  {
   "cell_type": "code",
   "execution_count": 17,
   "metadata": {},
   "outputs": [
    {
     "name": "stdout",
     "output_type": "stream",
     "text": [
      "Warning: Unnamed vectors -- this won't allow multiple vectors models to be loaded. (Shape: (0, 0))\n"
     ]
    },
    {
     "name": "stderr",
     "output_type": "stream",
     "text": [
      "100%|██████████| 42/42 [00:04<00:00,  8.61it/s]\n",
      "  2%|▏         | 1/42 [00:00<00:04,  8.45it/s]"
     ]
    },
    {
     "name": "stdout",
     "output_type": "stream",
     "text": [
      "{'ner': 332.48643444391587}\n"
     ]
    },
    {
     "name": "stderr",
     "output_type": "stream",
     "text": [
      "100%|██████████| 42/42 [00:04<00:00,  9.53it/s]\n",
      "  2%|▏         | 1/42 [00:00<00:04,  9.26it/s]"
     ]
    },
    {
     "name": "stdout",
     "output_type": "stream",
     "text": [
      "{'ner': 139.5405515559046}\n"
     ]
    },
    {
     "name": "stderr",
     "output_type": "stream",
     "text": [
      "100%|██████████| 42/42 [00:04<00:00,  9.70it/s]\n",
      "  5%|▍         | 2/42 [00:00<00:03, 10.96it/s]"
     ]
    },
    {
     "name": "stdout",
     "output_type": "stream",
     "text": [
      "{'ner': 124.2102578836351}\n"
     ]
    },
    {
     "name": "stderr",
     "output_type": "stream",
     "text": [
      "100%|██████████| 42/42 [00:04<00:00,  9.67it/s]\n",
      "  5%|▍         | 2/42 [00:00<00:03, 11.11it/s]"
     ]
    },
    {
     "name": "stdout",
     "output_type": "stream",
     "text": [
      "{'ner': 102.09099123222255}\n"
     ]
    },
    {
     "name": "stderr",
     "output_type": "stream",
     "text": [
      "100%|██████████| 42/42 [00:04<00:00,  9.54it/s]\n",
      "  2%|▏         | 1/42 [00:00<00:04,  8.45it/s]"
     ]
    },
    {
     "name": "stdout",
     "output_type": "stream",
     "text": [
      "{'ner': 91.16431335087354}\n"
     ]
    },
    {
     "name": "stderr",
     "output_type": "stream",
     "text": [
      "100%|██████████| 42/42 [00:04<00:00,  9.74it/s]\n",
      "  2%|▏         | 1/42 [00:00<00:05,  7.14it/s]"
     ]
    },
    {
     "name": "stdout",
     "output_type": "stream",
     "text": [
      "{'ner': 94.50039091783117}\n"
     ]
    },
    {
     "name": "stderr",
     "output_type": "stream",
     "text": [
      "100%|██████████| 42/42 [00:04<00:00,  9.66it/s]\n",
      "  5%|▍         | 2/42 [00:00<00:03, 10.06it/s]"
     ]
    },
    {
     "name": "stdout",
     "output_type": "stream",
     "text": [
      "{'ner': 85.74206017678512}\n"
     ]
    },
    {
     "name": "stderr",
     "output_type": "stream",
     "text": [
      "100%|██████████| 42/42 [00:04<00:00,  9.65it/s]\n",
      "  5%|▍         | 2/42 [00:00<00:03, 11.56it/s]"
     ]
    },
    {
     "name": "stdout",
     "output_type": "stream",
     "text": [
      "{'ner': 77.54399788187952}\n"
     ]
    },
    {
     "name": "stderr",
     "output_type": "stream",
     "text": [
      "100%|██████████| 42/42 [00:04<00:00,  9.70it/s]\n",
      "  2%|▏         | 1/42 [00:00<00:04,  9.50it/s]"
     ]
    },
    {
     "name": "stdout",
     "output_type": "stream",
     "text": [
      "{'ner': 69.0760972221261}\n"
     ]
    },
    {
     "name": "stderr",
     "output_type": "stream",
     "text": [
      "100%|██████████| 42/42 [00:04<00:00,  9.67it/s]\n",
      "  5%|▍         | 2/42 [00:00<00:03, 10.89it/s]"
     ]
    },
    {
     "name": "stdout",
     "output_type": "stream",
     "text": [
      "{'ner': 46.91527888872049}\n"
     ]
    },
    {
     "name": "stderr",
     "output_type": "stream",
     "text": [
      "100%|██████████| 42/42 [00:05<00:00,  7.61it/s]\n",
      "  2%|▏         | 1/42 [00:00<00:05,  8.18it/s]"
     ]
    },
    {
     "name": "stdout",
     "output_type": "stream",
     "text": [
      "{'ner': 51.60832052490098}\n"
     ]
    },
    {
     "name": "stderr",
     "output_type": "stream",
     "text": [
      "100%|██████████| 42/42 [00:04<00:00,  9.76it/s]\n",
      "  2%|▏         | 1/42 [00:00<00:05,  7.80it/s]"
     ]
    },
    {
     "name": "stdout",
     "output_type": "stream",
     "text": [
      "{'ner': 57.45124692716795}\n"
     ]
    },
    {
     "name": "stderr",
     "output_type": "stream",
     "text": [
      "100%|██████████| 42/42 [00:04<00:00,  9.85it/s]\n",
      "  2%|▏         | 1/42 [00:00<00:04,  9.27it/s]"
     ]
    },
    {
     "name": "stdout",
     "output_type": "stream",
     "text": [
      "{'ner': 50.955061935407976}\n"
     ]
    },
    {
     "name": "stderr",
     "output_type": "stream",
     "text": [
      "100%|██████████| 42/42 [00:04<00:00,  9.62it/s]\n",
      "  0%|          | 0/42 [00:00<?, ?it/s]"
     ]
    },
    {
     "name": "stdout",
     "output_type": "stream",
     "text": [
      "{'ner': 57.74273297204752}\n"
     ]
    },
    {
     "name": "stderr",
     "output_type": "stream",
     "text": [
      "100%|██████████| 42/42 [00:04<00:00,  9.66it/s]\n",
      "  0%|          | 0/42 [00:00<?, ?it/s]"
     ]
    },
    {
     "name": "stdout",
     "output_type": "stream",
     "text": [
      "{'ner': 40.70609986409528}\n"
     ]
    },
    {
     "name": "stderr",
     "output_type": "stream",
     "text": [
      "100%|██████████| 42/42 [00:04<00:00,  9.35it/s]\n",
      "  2%|▏         | 1/42 [00:00<00:05,  7.57it/s]"
     ]
    },
    {
     "name": "stdout",
     "output_type": "stream",
     "text": [
      "{'ner': 45.84202310200531}\n"
     ]
    },
    {
     "name": "stderr",
     "output_type": "stream",
     "text": [
      "100%|██████████| 42/42 [00:04<00:00,  9.36it/s]\n",
      "  2%|▏         | 1/42 [00:00<00:05,  6.98it/s]"
     ]
    },
    {
     "name": "stdout",
     "output_type": "stream",
     "text": [
      "{'ner': 29.830674151771422}\n"
     ]
    },
    {
     "name": "stderr",
     "output_type": "stream",
     "text": [
      "100%|██████████| 42/42 [00:04<00:00,  8.51it/s]\n",
      "  5%|▍         | 2/42 [00:00<00:03, 11.02it/s]"
     ]
    },
    {
     "name": "stdout",
     "output_type": "stream",
     "text": [
      "{'ner': 35.297798291181536}\n"
     ]
    },
    {
     "name": "stderr",
     "output_type": "stream",
     "text": [
      "100%|██████████| 42/42 [00:05<00:00,  8.18it/s]\n",
      "  2%|▏         | 1/42 [00:00<00:07,  5.47it/s]"
     ]
    },
    {
     "name": "stdout",
     "output_type": "stream",
     "text": [
      "{'ner': 22.976763829312507}\n"
     ]
    },
    {
     "name": "stderr",
     "output_type": "stream",
     "text": [
      "100%|██████████| 42/42 [00:05<00:00,  7.55it/s]\n",
      "  2%|▏         | 1/42 [00:00<00:06,  6.83it/s]"
     ]
    },
    {
     "name": "stdout",
     "output_type": "stream",
     "text": [
      "{'ner': 54.005968333901}\n"
     ]
    },
    {
     "name": "stderr",
     "output_type": "stream",
     "text": [
      "100%|██████████| 42/42 [00:05<00:00,  7.42it/s]\n",
      "  2%|▏         | 1/42 [00:00<00:06,  6.00it/s]"
     ]
    },
    {
     "name": "stdout",
     "output_type": "stream",
     "text": [
      "{'ner': 27.110864156141528}\n"
     ]
    },
    {
     "name": "stderr",
     "output_type": "stream",
     "text": [
      "100%|██████████| 42/42 [00:05<00:00,  7.11it/s]\n",
      "  2%|▏         | 1/42 [00:00<00:06,  6.48it/s]"
     ]
    },
    {
     "name": "stdout",
     "output_type": "stream",
     "text": [
      "{'ner': 22.58186260275552}\n"
     ]
    },
    {
     "name": "stderr",
     "output_type": "stream",
     "text": [
      "100%|██████████| 42/42 [00:06<00:00,  6.98it/s]\n",
      "  2%|▏         | 1/42 [00:00<00:06,  6.01it/s]"
     ]
    },
    {
     "name": "stdout",
     "output_type": "stream",
     "text": [
      "{'ner': 18.390180183471863}\n"
     ]
    },
    {
     "name": "stderr",
     "output_type": "stream",
     "text": [
      "100%|██████████| 42/42 [00:06<00:00,  6.95it/s]\n",
      "  2%|▏         | 1/42 [00:00<00:06,  6.56it/s]"
     ]
    },
    {
     "name": "stdout",
     "output_type": "stream",
     "text": [
      "{'ner': 23.133775517390433}\n"
     ]
    },
    {
     "name": "stderr",
     "output_type": "stream",
     "text": [
      "100%|██████████| 42/42 [00:06<00:00,  6.74it/s]\n",
      "  2%|▏         | 1/42 [00:00<00:07,  5.81it/s]"
     ]
    },
    {
     "name": "stdout",
     "output_type": "stream",
     "text": [
      "{'ner': 27.29278629938482}\n"
     ]
    },
    {
     "name": "stderr",
     "output_type": "stream",
     "text": [
      "100%|██████████| 42/42 [00:06<00:00,  6.52it/s]\n",
      "  2%|▏         | 1/42 [00:00<00:05,  7.06it/s]"
     ]
    },
    {
     "name": "stdout",
     "output_type": "stream",
     "text": [
      "{'ner': 28.790573451615195}\n"
     ]
    },
    {
     "name": "stderr",
     "output_type": "stream",
     "text": [
      "100%|██████████| 42/42 [00:06<00:00,  6.41it/s]\n",
      "  2%|▏         | 1/42 [00:00<00:07,  5.77it/s]"
     ]
    },
    {
     "name": "stdout",
     "output_type": "stream",
     "text": [
      "{'ner': 21.21134506656641}\n"
     ]
    },
    {
     "name": "stderr",
     "output_type": "stream",
     "text": [
      "100%|██████████| 42/42 [00:05<00:00,  7.06it/s]\n",
      "  2%|▏         | 1/42 [00:00<00:04,  8.21it/s]"
     ]
    },
    {
     "name": "stdout",
     "output_type": "stream",
     "text": [
      "{'ner': 35.17428887031538}\n"
     ]
    },
    {
     "name": "stderr",
     "output_type": "stream",
     "text": [
      "100%|██████████| 42/42 [00:06<00:00,  7.00it/s]\n",
      "  2%|▏         | 1/42 [00:00<00:04,  8.22it/s]"
     ]
    },
    {
     "name": "stdout",
     "output_type": "stream",
     "text": [
      "{'ner': 17.921456165232176}\n"
     ]
    },
    {
     "name": "stderr",
     "output_type": "stream",
     "text": [
      "100%|██████████| 42/42 [00:05<00:00,  7.16it/s]\n",
      "  2%|▏         | 1/42 [00:00<00:04,  8.68it/s]"
     ]
    },
    {
     "name": "stdout",
     "output_type": "stream",
     "text": [
      "{'ner': 20.338635030504815}\n"
     ]
    },
    {
     "name": "stderr",
     "output_type": "stream",
     "text": [
      "100%|██████████| 42/42 [00:05<00:00,  7.87it/s]\n",
      "  2%|▏         | 1/42 [00:00<00:06,  5.87it/s]"
     ]
    },
    {
     "name": "stdout",
     "output_type": "stream",
     "text": [
      "{'ner': 27.29648585323452}\n"
     ]
    },
    {
     "name": "stderr",
     "output_type": "stream",
     "text": [
      "100%|██████████| 42/42 [00:04<00:00,  8.74it/s]\n",
      "  2%|▏         | 1/42 [00:00<00:04,  8.85it/s]"
     ]
    },
    {
     "name": "stdout",
     "output_type": "stream",
     "text": [
      "{'ner': 25.150031037335676}\n"
     ]
    },
    {
     "name": "stderr",
     "output_type": "stream",
     "text": [
      "100%|██████████| 42/42 [00:04<00:00,  9.03it/s]\n",
      "  0%|          | 0/42 [00:00<?, ?it/s]"
     ]
    },
    {
     "name": "stdout",
     "output_type": "stream",
     "text": [
      "{'ner': 15.52985896424434}\n"
     ]
    },
    {
     "name": "stderr",
     "output_type": "stream",
     "text": [
      "100%|██████████| 42/42 [00:04<00:00,  9.31it/s]\n",
      "  5%|▍         | 2/42 [00:00<00:03, 10.86it/s]"
     ]
    },
    {
     "name": "stdout",
     "output_type": "stream",
     "text": [
      "{'ner': 20.350276167628085}\n"
     ]
    },
    {
     "name": "stderr",
     "output_type": "stream",
     "text": [
      "100%|██████████| 42/42 [00:04<00:00,  9.22it/s]\n",
      "  2%|▏         | 1/42 [00:00<00:07,  5.72it/s]"
     ]
    },
    {
     "name": "stdout",
     "output_type": "stream",
     "text": [
      "{'ner': 20.928128591343203}\n"
     ]
    },
    {
     "name": "stderr",
     "output_type": "stream",
     "text": [
      "100%|██████████| 42/42 [00:05<00:00,  8.31it/s]\n",
      "  5%|▍         | 2/42 [00:00<00:03, 11.91it/s]"
     ]
    },
    {
     "name": "stdout",
     "output_type": "stream",
     "text": [
      "{'ner': 17.653153818485258}\n"
     ]
    },
    {
     "name": "stderr",
     "output_type": "stream",
     "text": [
      "100%|██████████| 42/42 [00:04<00:00,  8.79it/s]\n",
      "  2%|▏         | 1/42 [00:00<00:05,  7.43it/s]"
     ]
    },
    {
     "name": "stdout",
     "output_type": "stream",
     "text": [
      "{'ner': 4.617252786789799}\n"
     ]
    },
    {
     "name": "stderr",
     "output_type": "stream",
     "text": [
      "100%|██████████| 42/42 [00:05<00:00,  7.51it/s]\n",
      "  2%|▏         | 1/42 [00:00<00:05,  7.05it/s]"
     ]
    },
    {
     "name": "stdout",
     "output_type": "stream",
     "text": [
      "{'ner': 10.589787661740866}\n"
     ]
    },
    {
     "name": "stderr",
     "output_type": "stream",
     "text": [
      "100%|██████████| 42/42 [00:06<00:00,  6.20it/s]\n",
      "  2%|▏         | 1/42 [00:00<00:06,  6.18it/s]"
     ]
    },
    {
     "name": "stdout",
     "output_type": "stream",
     "text": [
      "{'ner': 8.708243449725561}\n"
     ]
    },
    {
     "name": "stderr",
     "output_type": "stream",
     "text": [
      "100%|██████████| 42/42 [00:07<00:00,  5.87it/s]\n",
      "  2%|▏         | 1/42 [00:00<00:07,  5.64it/s]"
     ]
    },
    {
     "name": "stdout",
     "output_type": "stream",
     "text": [
      "{'ner': 17.04703312198227}\n"
     ]
    },
    {
     "name": "stderr",
     "output_type": "stream",
     "text": [
      "100%|██████████| 42/42 [00:08<00:00,  4.79it/s]\n",
      "  0%|          | 0/42 [00:00<?, ?it/s]"
     ]
    },
    {
     "name": "stdout",
     "output_type": "stream",
     "text": [
      "{'ner': 17.434525380469008}\n"
     ]
    },
    {
     "name": "stderr",
     "output_type": "stream",
     "text": [
      "100%|██████████| 42/42 [00:10<00:00,  3.99it/s]\n",
      "  0%|          | 0/42 [00:00<?, ?it/s]"
     ]
    },
    {
     "name": "stdout",
     "output_type": "stream",
     "text": [
      "{'ner': 14.218807884152197}\n"
     ]
    },
    {
     "name": "stderr",
     "output_type": "stream",
     "text": [
      "100%|██████████| 42/42 [00:11<00:00,  3.82it/s]\n",
      "  0%|          | 0/42 [00:00<?, ?it/s]"
     ]
    },
    {
     "name": "stdout",
     "output_type": "stream",
     "text": [
      "{'ner': 11.170244533983515}\n"
     ]
    },
    {
     "name": "stderr",
     "output_type": "stream",
     "text": [
      "100%|██████████| 42/42 [00:11<00:00,  3.73it/s]\n",
      "  0%|          | 0/42 [00:00<?, ?it/s]"
     ]
    },
    {
     "name": "stdout",
     "output_type": "stream",
     "text": [
      "{'ner': 7.499766912651694}\n"
     ]
    },
    {
     "name": "stderr",
     "output_type": "stream",
     "text": [
      "100%|██████████| 42/42 [00:12<00:00,  3.28it/s]\n",
      "  0%|          | 0/42 [00:00<?, ?it/s]"
     ]
    },
    {
     "name": "stdout",
     "output_type": "stream",
     "text": [
      "{'ner': 15.8640857456463}\n"
     ]
    },
    {
     "name": "stderr",
     "output_type": "stream",
     "text": [
      "100%|██████████| 42/42 [00:13<00:00,  3.22it/s]\n",
      "  0%|          | 0/42 [00:00<?, ?it/s]"
     ]
    },
    {
     "name": "stdout",
     "output_type": "stream",
     "text": [
      "{'ner': 7.895017412014168}\n"
     ]
    },
    {
     "name": "stderr",
     "output_type": "stream",
     "text": [
      "100%|██████████| 42/42 [00:13<00:00,  3.22it/s]\n",
      "  0%|          | 0/42 [00:00<?, ?it/s]"
     ]
    },
    {
     "name": "stdout",
     "output_type": "stream",
     "text": [
      "{'ner': 26.21105390450313}\n"
     ]
    },
    {
     "name": "stderr",
     "output_type": "stream",
     "text": [
      "100%|██████████| 42/42 [00:14<00:00,  2.92it/s]\n",
      "  0%|          | 0/42 [00:00<?, ?it/s]"
     ]
    },
    {
     "name": "stdout",
     "output_type": "stream",
     "text": [
      "{'ner': 6.244013253805317}\n"
     ]
    },
    {
     "name": "stderr",
     "output_type": "stream",
     "text": [
      "100%|██████████| 42/42 [00:13<00:00,  3.08it/s]\n",
      "  0%|          | 0/42 [00:00<?, ?it/s]"
     ]
    },
    {
     "name": "stdout",
     "output_type": "stream",
     "text": [
      "{'ner': 13.46279714221436}\n"
     ]
    },
    {
     "name": "stderr",
     "output_type": "stream",
     "text": [
      "100%|██████████| 42/42 [00:13<00:00,  3.05it/s]\n",
      "  0%|          | 0/42 [00:00<?, ?it/s]"
     ]
    },
    {
     "name": "stdout",
     "output_type": "stream",
     "text": [
      "{'ner': 9.971547251413146}\n"
     ]
    },
    {
     "name": "stderr",
     "output_type": "stream",
     "text": [
      "100%|██████████| 42/42 [00:14<00:00,  2.96it/s]\n",
      "  0%|          | 0/42 [00:00<?, ?it/s]"
     ]
    },
    {
     "name": "stdout",
     "output_type": "stream",
     "text": [
      "{'ner': 6.736207744414346}\n"
     ]
    },
    {
     "name": "stderr",
     "output_type": "stream",
     "text": [
      "100%|██████████| 42/42 [00:14<00:00,  3.00it/s]\n",
      "  0%|          | 0/42 [00:00<?, ?it/s]"
     ]
    },
    {
     "name": "stdout",
     "output_type": "stream",
     "text": [
      "{'ner': 21.276092923241094}\n"
     ]
    },
    {
     "name": "stderr",
     "output_type": "stream",
     "text": [
      "100%|██████████| 42/42 [00:16<00:00,  2.62it/s]\n",
      "  0%|          | 0/42 [00:00<?, ?it/s]"
     ]
    },
    {
     "name": "stdout",
     "output_type": "stream",
     "text": [
      "{'ner': 8.267907537457713}\n"
     ]
    },
    {
     "name": "stderr",
     "output_type": "stream",
     "text": [
      "100%|██████████| 42/42 [00:14<00:00,  2.94it/s]\n",
      "  0%|          | 0/42 [00:00<?, ?it/s]"
     ]
    },
    {
     "name": "stdout",
     "output_type": "stream",
     "text": [
      "{'ner': 10.006835305055667}\n"
     ]
    },
    {
     "name": "stderr",
     "output_type": "stream",
     "text": [
      "100%|██████████| 42/42 [00:14<00:00,  2.93it/s]\n",
      "  0%|          | 0/42 [00:00<?, ?it/s]"
     ]
    },
    {
     "name": "stdout",
     "output_type": "stream",
     "text": [
      "{'ner': 3.6923511003434597}\n"
     ]
    },
    {
     "name": "stderr",
     "output_type": "stream",
     "text": [
      "100%|██████████| 42/42 [00:14<00:00,  2.93it/s]\n",
      "  0%|          | 0/42 [00:00<?, ?it/s]"
     ]
    },
    {
     "name": "stdout",
     "output_type": "stream",
     "text": [
      "{'ner': 6.021790327604073}\n"
     ]
    },
    {
     "name": "stderr",
     "output_type": "stream",
     "text": [
      "100%|██████████| 42/42 [00:14<00:00,  2.96it/s]\n",
      "  0%|          | 0/42 [00:00<?, ?it/s]"
     ]
    },
    {
     "name": "stdout",
     "output_type": "stream",
     "text": [
      "{'ner': 5.679549222205616}\n"
     ]
    },
    {
     "name": "stderr",
     "output_type": "stream",
     "text": [
      "100%|██████████| 42/42 [00:14<00:00,  2.98it/s]\n",
      "  0%|          | 0/42 [00:00<?, ?it/s]"
     ]
    },
    {
     "name": "stdout",
     "output_type": "stream",
     "text": [
      "{'ner': 11.905781090710178}\n"
     ]
    },
    {
     "name": "stderr",
     "output_type": "stream",
     "text": [
      "100%|██████████| 42/42 [00:13<00:00,  3.01it/s]\n",
      "  0%|          | 0/42 [00:00<?, ?it/s]"
     ]
    },
    {
     "name": "stdout",
     "output_type": "stream",
     "text": [
      "{'ner': 14.18747571549815}\n"
     ]
    },
    {
     "name": "stderr",
     "output_type": "stream",
     "text": [
      "100%|██████████| 42/42 [00:13<00:00,  3.00it/s]\n",
      "  0%|          | 0/42 [00:00<?, ?it/s]"
     ]
    },
    {
     "name": "stdout",
     "output_type": "stream",
     "text": [
      "{'ner': 9.049148296706854}\n"
     ]
    },
    {
     "name": "stderr",
     "output_type": "stream",
     "text": [
      "100%|██████████| 42/42 [00:14<00:00,  2.95it/s]\n",
      "  0%|          | 0/42 [00:00<?, ?it/s]"
     ]
    },
    {
     "name": "stdout",
     "output_type": "stream",
     "text": [
      "{'ner': 15.408698516118184}\n"
     ]
    },
    {
     "name": "stderr",
     "output_type": "stream",
     "text": [
      "100%|██████████| 42/42 [00:14<00:00,  2.85it/s]\n",
      "  0%|          | 0/42 [00:00<?, ?it/s]"
     ]
    },
    {
     "name": "stdout",
     "output_type": "stream",
     "text": [
      "{'ner': 13.278322416354957}\n"
     ]
    },
    {
     "name": "stderr",
     "output_type": "stream",
     "text": [
      "100%|██████████| 42/42 [00:13<00:00,  3.00it/s]\n",
      "  0%|          | 0/42 [00:00<?, ?it/s]"
     ]
    },
    {
     "name": "stdout",
     "output_type": "stream",
     "text": [
      "{'ner': 19.675995171680828}\n"
     ]
    },
    {
     "name": "stderr",
     "output_type": "stream",
     "text": [
      "100%|██████████| 42/42 [00:16<00:00,  2.60it/s]\n",
      "  0%|          | 0/42 [00:00<?, ?it/s]"
     ]
    },
    {
     "name": "stdout",
     "output_type": "stream",
     "text": [
      "{'ner': 5.986263332700264}\n"
     ]
    },
    {
     "name": "stderr",
     "output_type": "stream",
     "text": [
      "100%|██████████| 42/42 [00:19<00:00,  2.13it/s]\n",
      "  0%|          | 0/42 [00:00<?, ?it/s]"
     ]
    },
    {
     "name": "stdout",
     "output_type": "stream",
     "text": [
      "{'ner': 4.490998590435809}\n"
     ]
    },
    {
     "name": "stderr",
     "output_type": "stream",
     "text": [
      "100%|██████████| 42/42 [00:18<00:00,  2.27it/s]\n",
      "  0%|          | 0/42 [00:00<?, ?it/s]"
     ]
    },
    {
     "name": "stdout",
     "output_type": "stream",
     "text": [
      "{'ner': 6.692929612318418}\n"
     ]
    },
    {
     "name": "stderr",
     "output_type": "stream",
     "text": [
      "100%|██████████| 42/42 [00:15<00:00,  2.63it/s]\n",
      "  0%|          | 0/42 [00:00<?, ?it/s]"
     ]
    },
    {
     "name": "stdout",
     "output_type": "stream",
     "text": [
      "{'ner': 0.00019583749453248463}\n"
     ]
    },
    {
     "name": "stderr",
     "output_type": "stream",
     "text": [
      "100%|██████████| 42/42 [00:17<00:00,  2.43it/s]\n",
      "  0%|          | 0/42 [00:00<?, ?it/s]"
     ]
    },
    {
     "name": "stdout",
     "output_type": "stream",
     "text": [
      "{'ner': 8.743391909041392}\n"
     ]
    },
    {
     "name": "stderr",
     "output_type": "stream",
     "text": [
      "100%|██████████| 42/42 [00:17<00:00,  2.37it/s]\n",
      "  0%|          | 0/42 [00:00<?, ?it/s]"
     ]
    },
    {
     "name": "stdout",
     "output_type": "stream",
     "text": [
      "{'ner': 11.745731222678694}\n"
     ]
    },
    {
     "name": "stderr",
     "output_type": "stream",
     "text": [
      "100%|██████████| 42/42 [00:17<00:00,  2.44it/s]\n",
      "  0%|          | 0/42 [00:00<?, ?it/s]"
     ]
    },
    {
     "name": "stdout",
     "output_type": "stream",
     "text": [
      "{'ner': 8.134225776689812}\n"
     ]
    },
    {
     "name": "stderr",
     "output_type": "stream",
     "text": [
      "100%|██████████| 42/42 [00:15<00:00,  2.63it/s]\n",
      "  0%|          | 0/42 [00:00<?, ?it/s]"
     ]
    },
    {
     "name": "stdout",
     "output_type": "stream",
     "text": [
      "{'ner': 8.165808135475558}\n"
     ]
    },
    {
     "name": "stderr",
     "output_type": "stream",
     "text": [
      "100%|██████████| 42/42 [00:14<00:00,  2.94it/s]\n",
      "  0%|          | 0/42 [00:00<?, ?it/s]"
     ]
    },
    {
     "name": "stdout",
     "output_type": "stream",
     "text": [
      "{'ner': 13.902001238636407}\n"
     ]
    },
    {
     "name": "stderr",
     "output_type": "stream",
     "text": [
      "100%|██████████| 42/42 [00:17<00:00,  2.35it/s]\n",
      "  0%|          | 0/42 [00:00<?, ?it/s]"
     ]
    },
    {
     "name": "stdout",
     "output_type": "stream",
     "text": [
      "{'ner': 10.950402488392143}\n"
     ]
    },
    {
     "name": "stderr",
     "output_type": "stream",
     "text": [
      "100%|██████████| 42/42 [00:15<00:00,  2.80it/s]\n",
      "  0%|          | 0/42 [00:00<?, ?it/s]"
     ]
    },
    {
     "name": "stdout",
     "output_type": "stream",
     "text": [
      "{'ner': 9.904896336319435}\n"
     ]
    },
    {
     "name": "stderr",
     "output_type": "stream",
     "text": [
      "100%|██████████| 42/42 [00:14<00:00,  2.81it/s]\n",
      "  0%|          | 0/42 [00:00<?, ?it/s]"
     ]
    },
    {
     "name": "stdout",
     "output_type": "stream",
     "text": [
      "{'ner': 6.5850930247117345}\n"
     ]
    },
    {
     "name": "stderr",
     "output_type": "stream",
     "text": [
      "100%|██████████| 42/42 [00:14<00:00,  2.82it/s]\n",
      "  0%|          | 0/42 [00:00<?, ?it/s]"
     ]
    },
    {
     "name": "stdout",
     "output_type": "stream",
     "text": [
      "{'ner': 3.998767257778}\n"
     ]
    },
    {
     "name": "stderr",
     "output_type": "stream",
     "text": [
      "100%|██████████| 42/42 [00:15<00:00,  2.79it/s]\n",
      "  0%|          | 0/42 [00:00<?, ?it/s]"
     ]
    },
    {
     "name": "stdout",
     "output_type": "stream",
     "text": [
      "{'ner': 5.537790926596751}\n"
     ]
    },
    {
     "name": "stderr",
     "output_type": "stream",
     "text": [
      "100%|██████████| 42/42 [00:15<00:00,  2.76it/s]\n",
      "  0%|          | 0/42 [00:00<?, ?it/s]"
     ]
    },
    {
     "name": "stdout",
     "output_type": "stream",
     "text": [
      "{'ner': 4.498032417148411}\n"
     ]
    },
    {
     "name": "stderr",
     "output_type": "stream",
     "text": [
      "100%|██████████| 42/42 [00:15<00:00,  2.75it/s]\n",
      "  0%|          | 0/42 [00:00<?, ?it/s]"
     ]
    },
    {
     "name": "stdout",
     "output_type": "stream",
     "text": [
      "{'ner': 2.544785033760141}\n"
     ]
    },
    {
     "name": "stderr",
     "output_type": "stream",
     "text": [
      "100%|██████████| 42/42 [00:15<00:00,  2.77it/s]\n",
      "  0%|          | 0/42 [00:00<?, ?it/s]"
     ]
    },
    {
     "name": "stdout",
     "output_type": "stream",
     "text": [
      "{'ner': 5.998174548769115}\n"
     ]
    },
    {
     "name": "stderr",
     "output_type": "stream",
     "text": [
      "100%|██████████| 42/42 [00:15<00:00,  2.72it/s]\n",
      "  0%|          | 0/42 [00:00<?, ?it/s]"
     ]
    },
    {
     "name": "stdout",
     "output_type": "stream",
     "text": [
      "{'ner': 0.6455460126888833}\n"
     ]
    },
    {
     "name": "stderr",
     "output_type": "stream",
     "text": [
      "100%|██████████| 42/42 [00:14<00:00,  2.87it/s]\n",
      "  0%|          | 0/42 [00:00<?, ?it/s]"
     ]
    },
    {
     "name": "stdout",
     "output_type": "stream",
     "text": [
      "{'ner': 11.214078226988397}\n"
     ]
    },
    {
     "name": "stderr",
     "output_type": "stream",
     "text": [
      "100%|██████████| 42/42 [00:14<00:00,  2.85it/s]\n",
      "  0%|          | 0/42 [00:00<?, ?it/s]"
     ]
    },
    {
     "name": "stdout",
     "output_type": "stream",
     "text": [
      "{'ner': 3.9999991448555168}\n"
     ]
    },
    {
     "name": "stderr",
     "output_type": "stream",
     "text": [
      "100%|██████████| 42/42 [00:14<00:00,  2.86it/s]\n",
      "  0%|          | 0/42 [00:00<?, ?it/s]"
     ]
    },
    {
     "name": "stdout",
     "output_type": "stream",
     "text": [
      "{'ner': 3.951925636717399}\n"
     ]
    },
    {
     "name": "stderr",
     "output_type": "stream",
     "text": [
      "100%|██████████| 42/42 [00:15<00:00,  2.78it/s]\n",
      "  0%|          | 0/42 [00:00<?, ?it/s]"
     ]
    },
    {
     "name": "stdout",
     "output_type": "stream",
     "text": [
      "{'ner': 3.8488413107637798}\n"
     ]
    },
    {
     "name": "stderr",
     "output_type": "stream",
     "text": [
      "100%|██████████| 42/42 [00:15<00:00,  2.65it/s]\n",
      "  0%|          | 0/42 [00:00<?, ?it/s]"
     ]
    },
    {
     "name": "stdout",
     "output_type": "stream",
     "text": [
      "{'ner': 4.000076547535717}\n"
     ]
    },
    {
     "name": "stderr",
     "output_type": "stream",
     "text": [
      "100%|██████████| 42/42 [00:16<00:00,  2.55it/s]\n",
      "  0%|          | 0/42 [00:00<?, ?it/s]"
     ]
    },
    {
     "name": "stdout",
     "output_type": "stream",
     "text": [
      "{'ner': 6.009935015551819}\n"
     ]
    },
    {
     "name": "stderr",
     "output_type": "stream",
     "text": [
      "100%|██████████| 42/42 [00:15<00:00,  2.76it/s]\n",
      "  0%|          | 0/42 [00:00<?, ?it/s]"
     ]
    },
    {
     "name": "stdout",
     "output_type": "stream",
     "text": [
      "{'ner': 1.2765446913503042}\n"
     ]
    },
    {
     "name": "stderr",
     "output_type": "stream",
     "text": [
      "100%|██████████| 42/42 [00:14<00:00,  2.86it/s]\n",
      "  0%|          | 0/42 [00:00<?, ?it/s]"
     ]
    },
    {
     "name": "stdout",
     "output_type": "stream",
     "text": [
      "{'ner': 3.261905519819926}\n"
     ]
    },
    {
     "name": "stderr",
     "output_type": "stream",
     "text": [
      "100%|██████████| 42/42 [00:14<00:00,  2.85it/s]\n",
      "  0%|          | 0/42 [00:00<?, ?it/s]"
     ]
    },
    {
     "name": "stdout",
     "output_type": "stream",
     "text": [
      "{'ner': 4.180546200083932}\n"
     ]
    },
    {
     "name": "stderr",
     "output_type": "stream",
     "text": [
      "100%|██████████| 42/42 [00:14<00:00,  2.82it/s]\n",
      "  0%|          | 0/42 [00:00<?, ?it/s]"
     ]
    },
    {
     "name": "stdout",
     "output_type": "stream",
     "text": [
      "{'ner': 6.992414549112639}\n"
     ]
    },
    {
     "name": "stderr",
     "output_type": "stream",
     "text": [
      "100%|██████████| 42/42 [00:15<00:00,  2.69it/s]\n",
      "  0%|          | 0/42 [00:00<?, ?it/s]"
     ]
    },
    {
     "name": "stdout",
     "output_type": "stream",
     "text": [
      "{'ner': 1.2364008343017656}\n"
     ]
    },
    {
     "name": "stderr",
     "output_type": "stream",
     "text": [
      "100%|██████████| 42/42 [00:15<00:00,  2.75it/s]\n",
      "  0%|          | 0/42 [00:00<?, ?it/s]"
     ]
    },
    {
     "name": "stdout",
     "output_type": "stream",
     "text": [
      "{'ner': 5.816524884650789}\n"
     ]
    },
    {
     "name": "stderr",
     "output_type": "stream",
     "text": [
      "100%|██████████| 42/42 [00:14<00:00,  2.80it/s]\n",
      "  0%|          | 0/42 [00:00<?, ?it/s]"
     ]
    },
    {
     "name": "stdout",
     "output_type": "stream",
     "text": [
      "{'ner': 11.658602910745978}\n"
     ]
    },
    {
     "name": "stderr",
     "output_type": "stream",
     "text": [
      "100%|██████████| 42/42 [00:14<00:00,  2.80it/s]\n",
      "  0%|          | 0/42 [00:00<?, ?it/s]"
     ]
    },
    {
     "name": "stdout",
     "output_type": "stream",
     "text": [
      "{'ner': 9.561472099478665}\n"
     ]
    },
    {
     "name": "stderr",
     "output_type": "stream",
     "text": [
      "100%|██████████| 42/42 [00:15<00:00,  2.80it/s]\n",
      "  0%|          | 0/42 [00:00<?, ?it/s]"
     ]
    },
    {
     "name": "stdout",
     "output_type": "stream",
     "text": [
      "{'ner': 8.534755233044555}\n"
     ]
    },
    {
     "name": "stderr",
     "output_type": "stream",
     "text": [
      "100%|██████████| 42/42 [00:15<00:00,  2.74it/s]\n",
      "  0%|          | 0/42 [00:00<?, ?it/s]"
     ]
    },
    {
     "name": "stdout",
     "output_type": "stream",
     "text": [
      "{'ner': 9.96587085019323}\n"
     ]
    },
    {
     "name": "stderr",
     "output_type": "stream",
     "text": [
      "100%|██████████| 42/42 [00:15<00:00,  2.71it/s]\n",
      "  0%|          | 0/42 [00:00<?, ?it/s]"
     ]
    },
    {
     "name": "stdout",
     "output_type": "stream",
     "text": [
      "{'ner': 7.84855752919613}\n"
     ]
    },
    {
     "name": "stderr",
     "output_type": "stream",
     "text": [
      "100%|██████████| 42/42 [00:14<00:00,  2.88it/s]\n",
      "  0%|          | 0/42 [00:00<?, ?it/s]"
     ]
    },
    {
     "name": "stdout",
     "output_type": "stream",
     "text": [
      "{'ner': 13.654553072531629}\n"
     ]
    },
    {
     "name": "stderr",
     "output_type": "stream",
     "text": [
      "100%|██████████| 42/42 [00:15<00:00,  2.77it/s]"
     ]
    },
    {
     "name": "stdout",
     "output_type": "stream",
     "text": [
      "{'ner': 4.079682677219431}\n"
     ]
    },
    {
     "name": "stderr",
     "output_type": "stream",
     "text": [
      "\n"
     ]
    }
   ],
   "source": [
    "#add labels \n",
    "for _, annotations in train_data: \n",
    "    for ent in annotations.get('entities'): \n",
    "        ner.add_label(ent[2])\n",
    "        \n",
    "other_pipes=[pipe for pipe in nlp.pipe_names if pipe!='ner']\n",
    "with nlp.disable_pipes(*other_pipes): #only train NER\n",
    "    optimizer=nlp.begin_training()\n",
    "    for itn in range(n_iter): \n",
    "        random.shuffle(train_data)\n",
    "        losses={}\n",
    "        for text, annotations in tqdm(train_data): \n",
    "            nlp.update(\n",
    "                [text], \n",
    "                [annotations], \n",
    "                drop=0.5, \n",
    "                sgd=optimizer, \n",
    "                losses=losses\n",
    "            \n",
    "            )\n",
    "        print(losses)"
   ]
  },
  {
   "cell_type": "code",
   "execution_count": 18,
   "metadata": {},
   "outputs": [
    {
     "name": "stdout",
     "output_type": "stream",
     "text": [
      "Entities []\n",
      "Tokens [('A', '', 2), ('GASRA', '', 2), ('was', '', 2), ('conducted', '', 2), ('at', '', 2), ('Group', '', 2), ('and', '', 2), ('local', '', 2), ('level', '', 2), ('when', '', 2), ('SAS', '', 2), ('EFM', '', 2), ('was', '', 2), ('rolled', '', 2), ('-', '', 2), ('out', '', 2), ('in', '', 2), ('2015', '', 2), ('.', '', 2), (' ', '', 2), ('The', '', 2), ('population', '', 2), ('is', '', 2), ('therefore', '', 2), ('considered', '', 2), ('to', '', 2), ('be', '', 2), ('1', '', 2), ('but', '', 2), ('both', '', 2), ('GASRAs', '', 2), ('will', '', 2), ('be', '', 2), ('reviewed', '', 2), ('.', '', 2)]\n",
      "Entities [('BIA', 'source_data'), ('annual', 'frequency')]\n",
      "Tokens [('BIA', 'source_data', 3), ('is', '', 2), ('performed', '', 2), ('and', '', 2), ('reviewed', '', 2), ('at', '', 2), ('least', '', 2), ('on', '', 2), ('an', '', 2), ('annual', 'frequency', 3), ('basis', '', 2), ('.', '', 2), ('As', '', 2), ('a', '', 2), ('result', '', 2), ('only', '', 2), ('one', '', 2), ('sample', '', 2), ('is', '', 2), ('reviewed', '', 2)]\n",
      "Entities [('monthly', 'frequency')]\n",
      "Tokens [('The', '', 2), ('rule', '', 2), ('performance', '', 2), ('reports', '', 2), ('are', '', 2), ('produced', '', 2), ('on', '', 2), ('a', '', 2), ('monthly', 'frequency', 3), ('basis', '', 2), (',', '', 2), ('there', '', 2), ('is', '', 2), ('therefore', '', 2), ('a', '', 2), ('total', '', 2), ('population', '', 2), ('of', '', 2), ('12', '', 2), ('in', '', 2), ('the', '', 2), ('year', '', 2), ('and', '', 2), ('a', '', 2), ('sample', '', 2), ('of', '', 2), ('2', '', 2), ('will', '', 2), ('be', '', 2), ('selected', '', 2), ('for', '', 2), ('testing', '', 2), ('.', '', 2)]\n",
      "Entities [('fraud loss reports', 'source_data'), ('monthly', 'frequency')]\n",
      "Tokens [('The', '', 2), ('fraud', 'source_data', 3), ('loss', 'source_data', 1), ('reports', 'source_data', 1), ('against', '', 2), ('risk', '', 2), ('appetite', '', 2), ('are', '', 2), ('produced', '', 2), ('on', '', 2), ('a', '', 2), ('monthly', 'frequency', 3), ('basis', '', 2), (',', '', 2), ('there', '', 2), ('is', '', 2), ('therefore', '', 2), ('a', '', 2), ('total', '', 2), ('population', '', 2), ('of', '', 2), ('12', '', 2), ('in', '', 2), ('the', '', 2), ('year', '', 2), ('and', '', 2), ('a', '', 2), ('sample', '', 2), ('of', '', 2), ('2', '', 2), ('will', '', 2), ('be', '', 2), ('selected', '', 2), ('for', '', 2), ('testing', '', 2), ('.', '', 2)]\n",
      "Entities [('business RCAs', 'source_data'), ('annual', 'frequency'), ('reviewed.', 'control_verb')]\n",
      "Tokens [('The', '', 2), ('business', 'source_data', 3), ('RCAs', 'source_data', 1), ('are', '', 2), ('reviewed', '', 2), ('and', '', 2), ('approved', '', 2), ('on', '', 2), ('an', '', 2), ('annual', 'frequency', 3), ('basis', '', 2), (',', '', 2), ('the', '', 2), ('population', '', 2), ('is', '', 2), ('therefore', '', 2), ('considered', '', 2), ('to', '', 2), ('be', '', 2), ('1', '', 2), ('and', '', 2), ('a', '', 2), ('sample', '', 2), ('of', '', 2), ('1', '', 2), ('will', '', 2), ('be', '', 2), ('reviewed', 'control_verb', 3), ('.', 'control_verb', 1)]\n",
      "Entities [('High Dollar Value fraud cases', 'source_data'), ('monthly', 'frequency')]\n",
      "Tokens [('The', '', 2), ('High', 'source_data', 3), ('Dollar', 'source_data', 1), ('Value', 'source_data', 1), ('fraud', 'source_data', 1), ('cases', 'source_data', 1), ('are', '', 2), ('discussed', '', 2), ('on', '', 2), ('a', '', 2), ('monthly', 'frequency', 3), ('basis', '', 2), (',', '', 2), ('there', '', 2), ('is', '', 2), ('therefore', '', 2), ('a', '', 2), ('total', '', 2), ('population', '', 2), ('of', '', 2), ('12', '', 2), ('in', '', 2), ('the', '', 2), ('year', '', 2), ('and', '', 2), ('a', '', 2), ('sample', '', 2), ('of', '', 2), ('2', '', 2), ('will', '', 2), ('be', '', 2), ('selected', '', 2), ('for', '', 2), ('testing', '', 2)]\n",
      "Entities [('fraud loss reports', 'source_data'), ('monthly', 'frequency')]\n",
      "Tokens [('The', '', 2), ('fraud', 'source_data', 3), ('loss', 'source_data', 1), ('reports', 'source_data', 1), ('are', '', 2), ('produced', '', 2), ('on', '', 2), ('a', '', 2), ('monthly', 'frequency', 3), ('basis', '', 2), (',', '', 2), ('there', '', 2), ('is', '', 2), ('therefore', '', 2), ('a', '', 2), ('total', '', 2), ('population', '', 2), ('of', '', 2), ('12', '', 2), ('in', '', 2), ('the', '', 2), ('year', '', 2), ('and', '', 2), ('a', '', 2), ('sample', '', 2), ('of', '', 2), ('2', '', 2), ('will', '', 2), ('be', '', 2), ('selected', '', 2), ('for', '', 2), ('testing', '', 2), ('.', '', 2)]\n",
      "Entities [('Fraud Strategy DIMs', 'source_data'), ('annual', 'frequency')]\n",
      "Tokens [('The', '', 2), ('Fraud', 'source_data', 3), ('Strategy', 'source_data', 1), ('DIMs', 'source_data', 1), ('are', '', 2), ('reviewed', '', 2), ('at', '', 2), ('least', '', 2), ('on', '', 2), ('an', '', 2), ('annual', 'frequency', 3), ('basis', '', 2), ('.', '', 2), ('The', '', 2), ('population', '', 2), ('is', '', 2), ('therefore', '', 2), ('considered', '', 2), ('to', '', 2), ('be', '', 2), ('1', '', 2), ('and', '', 2), ('a', '', 2), ('sample', '', 2), ('of', '', 2), ('1', '', 2), ('will', '', 2), ('be', '', 2), ('reviewed', '', 2), ('for', '', 2), ('the', '', 2), ('different', '', 2), ('DIMs', '', 2), ('in', '', 2), ('place', '', 2), ('.', '', 2)]\n",
      "Entities []\n",
      "Tokens [('A', '', 2), ('BCP', '', 2), ('review', '', 2), ('was', '', 2), ('conducted', '', 2), ('at', '', 2), ('HBCA', '', 2), ('level', '', 2), ('when', '', 2), ('Vantiv', '', 2), ('was', '', 2), ('onboarded', '', 2), ('through', '', 2), ('procurement', '', 2), ('for', '', 2), ('the', '', 2), ('launch', '', 2), ('of', '', 2), ('the', '', 2), ('Canada', '', 2), ('corporate', '', 2), ('credit', '', 2), ('cards', '', 2), ('in', '', 2), ('2016', '', 2), ('.', '', 2), ('The', '', 2), ('population', '', 2), ('is', '', 2), ('therefore', '', 2), ('considered', '', 2), ('to', '', 2), ('be', '', 2), ('1', '', 2), ('and', '', 2), ('a', '', 2), ('sample', '', 2), ('of', '', 2), ('1', '', 2), ('will', '', 2), ('be', '', 2), ('reviewed', '', 2), ('.', '', 2)]\n",
      "Entities []\n",
      "Tokens [('An', '', 2), ('exit', '', 2), ('strategy', '', 2), ('should', '', 2), ('be', '', 2), ('in', '', 2), ('place', '', 2), ('based', '', 2), ('on', '', 2), ('Overall', '', 2), ('Services', '', 2), ('Risk', '', 2), ('Assessment', '', 2), ('conducted', '', 2), ('when', '', 2), ('the', '', 2), ('vendor', '', 2), ('was', '', 2), ('onboarded', '', 2), ('in', '', 2), ('2016', '', 2), ('.', '', 2), (' ', '', 2), ('The', '', 2), ('population', '', 2), ('is', '', 2), ('therefore', '', 2), ('considered', '', 2), ('to', '', 2), ('be', '', 2), ('1', '', 2), ('and', '', 2), ('a', '', 2), ('sample', '', 2), ('of', '', 2), ('1', '', 2), ('will', '', 2), ('be', '', 2), ('reviewed', '', 2), ('.', '', 2)]\n",
      "Entities [('Fraud Strategy meets', 'source_data'), ('monthly', 'frequency')]\n",
      "Tokens [('Fraud', 'source_data', 3), ('Strategy', 'source_data', 1), ('meets', 'source_data', 1), ('on', '', 2), ('a', '', 2), ('monthly', 'frequency', 3), ('basis', '', 2), (',', '', 2), ('there', '', 2), ('is', '', 2), ('therefore', '', 2), ('a', '', 2), ('total', '', 2), ('population', '', 2), ('of', '', 2), ('12', '', 2), ('in', '', 2), ('the', '', 2), ('year', '', 2), ('and', '', 2), ('a', '', 2), ('sample', '', 2), ('of', '', 2), ('2', '', 2), ('will', '', 2), ('be', '', 2), ('selected', '', 2), ('for', '', 2), ('testing', '', 2), ('.', '', 2)]\n",
      "Entities [('Fraud Operations meets', 'source_data'), ('monthly', 'frequency')]\n",
      "Tokens [('Fraud', 'source_data', 3), ('Operations', 'source_data', 1), ('meets', 'source_data', 1), ('on', '', 2), ('a', '', 2), ('monthly', 'frequency', 3), ('basis', '', 2), ('with', '', 2), ('the', '', 2), ('GSC', '', 2), (',', '', 2), ('there', '', 2), ('is', '', 2), ('therefore', '', 2), ('a', '', 2), ('total', '', 2), ('population', '', 2), ('of', '', 2), ('12', '', 2), ('in', '', 2), ('the', '', 2), ('year', '', 2), ('and', '', 2), ('a', '', 2), ('sample', '', 2), ('of', '', 2), ('2', '', 2), ('will', '', 2), ('be', '', 2), ('selected', '', 2), ('for', '', 2), ('testing', '', 2)]\n",
      "Entities [('RCAs', 'source_data'), ('annual', 'frequency')]\n",
      "Tokens [('The', '', 2), ('second', '', 2), ('line', '', 2), ('of', '', 2), ('defence', '', 2), ('should', '', 2), ('review', '', 2), ('and', '', 2), ('challenge', '', 2), ('the', '', 2), ('RCAs', 'source_data', 3), ('prepared', '', 2), ('by', '', 2), ('business', '', 2), ('as', '', 2), ('part', '', 2), ('of', '', 2), ('the', '', 2), ('annual', 'frequency', 3), ('review', '', 2), ('before', '', 2), ('final', '', 2), ('approval', '', 2), ('.', '', 2), ('The', '', 2), ('population', '', 2), ('is', '', 2), ('therefore', '', 2), ('considered', '', 2), ('to', '', 2), ('be', '', 2), ('1', '', 2), ('and', '', 2), ('a', '', 2), ('sample', '', 2), ('of', '', 2), ('1', '', 2), ('will', '', 2), ('be', '', 2), ('reviewed', '', 2), ('.', '', 2)]\n",
      "Entities [('RCG', 'source_data'), ('monthly', 'frequency'), ('review', 'control_verb')]\n",
      "Tokens [('RCG', 'source_data', 3), ('are', '', 2), ('arranged', '', 2), ('on', '', 2), ('a', '', 2), ('monthly', 'frequency', 3), ('basis', '', 2), ('in', '', 2), ('each', '', 2), ('of', '', 2), ('the', '', 2), ('country', '', 2), ('in', '', 2), ('scope', '', 2), ('of', '', 2), ('this', '', 2), ('audit', '', 2), ('(', '', 2), ('UK', '', 2), (',', '', 2), ('China', '', 2), (',', '', 2), ('Singapore', '', 2), (',', '', 2), ('India', '', 2), (',', '', 2), ('HK', '', 2), ('and', '', 2), ('Malaysia', '', 2), (')', '', 2), ('.', '', 2), ('The', '', 2), ('control', '', 2), ('has', '', 2), ('been', '', 2), ('executed', '', 2), ('a', '', 2), ('total', '', 2), ('number', '', 2), ('of', '', 2), ('84', '', 2), ('times', '', 2), ('for', '', 2), ('year', '', 2), ('(', '', 2), ('5', '', 2), ('times', '', 2), ('in', '', 2), ('the', '', 2), ('ASP', '', 2), ('countries', '', 2), ('and', '', 2), ('2', '', 2), ('times', '', 2), ('in', '', 2), ('the', '', 2), ('UK', '', 2), ('each', '', 2), ('month', '', 2), ('(', '', 2), ('7', '', 2), ('times', '', 2), ('12', '', 2), (')', '', 2), (')', '', 2), ('.', '', 2), ('84', '', 2), ('is', '', 2), ('the', '', 2), ('total', '', 2), ('population', '', 2), ('considered', '', 2), ('for', '', 2), ('the', '', 2), ('review', 'control_verb', 3), ('of', '', 2), ('this', '', 2), ('control', '', 2), ('.', '', 2)]\n",
      "Entities [('FCTM Dashboards', 'source_data'), ('monthly', 'frequency')]\n",
      "Tokens [('A', '', 2), ('four', '', 2), ('month', '', 2), ('sample', '', 2), ('was', '', 2), ('selected', '', 2), ('to', '', 2), ('identify', '', 2), ('any', '', 2), ('major', '', 2), ('incidents', '', 2), ('.', '', 2), (' ', '', 2), ('FCTM', 'source_data', 3), ('Dashboards', 'source_data', 1), ('are', '', 2), ('prepared', '', 2), ('on', '', 2), ('a', '', 2), ('monthly', 'frequency', 3), ('basis', '', 2), ('and', '', 2), ('thus', '', 2), ('a', '', 2), ('minimum', '', 2), ('sample', '', 2), ('of', '', 2), ('2', '', 2), ('will', '', 2), ('be', '', 2), ('sufficient', '', 2), ('.', '', 2)]\n",
      "Entities [('DRP', 'source_data'), ('annual', 'frequency')]\n",
      "Tokens [('DRP', 'source_data', 3), ('is', '', 2), ('reviewed', '', 2), ('and', '', 2), ('updated', '', 2), ('at', '', 2), ('least', '', 2), ('on', '', 2), ('an', '', 2), ('annual', 'frequency', 3), ('basis', '', 2), ('.', '', 2), ('As', '', 2), ('a', '', 2), ('result', '', 2), ('only', '', 2), ('one', '', 2), ('sample', '', 2), ('is', '', 2), ('reviewed', '', 2)]\n",
      "Entities [('DR testing', 'source_data'), ('annual', 'frequency')]\n",
      "Tokens [('DR', 'source_data', 3), ('testing', 'source_data', 1), ('is', '', 2), ('conducted', '', 2), ('at', '', 2), ('least', '', 2), ('on', '', 2), ('an', '', 2), ('annual', 'frequency', 3), ('basis', '', 2), ('.', '', 2), ('As', '', 2), ('a', '', 2), ('result', '', 2), ('only', '', 2), ('one', '', 2), ('sample', '', 2), ('is', '', 2), ('reviewed', '', 2)]\n",
      "Entities [('BCP testing', 'source_data'), ('annual', 'frequency')]\n",
      "Tokens [('BCP', 'source_data', 3), ('testing', 'source_data', 1), ('is', '', 2), ('conducted', '', 2), ('at', '', 2), ('least', '', 2), ('on', '', 2), ('an', '', 2), ('annual', 'frequency', 3), ('basis', '', 2), ('.', '', 2), ('As', '', 2), ('a', '', 2), ('result', '', 2), ('only', '', 2), ('one', '', 2), ('sample', '', 2), ('is', '', 2), ('reviewed', '', 2)]\n",
      "Entities []\n",
      "Tokens [('In', '', 2), ('addition', '', 2), ('to', '', 2), ('the', '', 2), ('annual', '', 2), ('user', '', 2), ('access', '', 2), ('recertification', '', 2), ('for', '', 2), ('the', '', 2), ('systems', '', 2), ('used', '', 2), (',', '', 2), ('access', '', 2), ('to', '', 2), ('the', '', 2), ('Fraud', '', 2), ('Strategy', '', 2), ('key', '', 2), ('LAN', '', 2), ('folder', '', 2), ('(', '', 2), ('PC', '', 2), ('SAS', '', 2), ('code', '', 2), (')', '', 2), ('should', '', 2), ('also', '', 2), ('be', '', 2), ('reviewed', '', 2), ('to', '', 2), ('revoke', '', 2), ('any', '', 2), ('unnecessary', '', 2), ('accesses', '', 2), ('at', '', 2), ('least', '', 2), ('on', '', 2), ('an', '', 2), ('annual', '', 2), ('basis', '', 2), ('.', '', 2), ('The', '', 2), ('population', '', 2), ('is', '', 2), ('therefore', '', 2), ('considered', '', 2), ('to', '', 2), ('be', '', 2), ('1', '', 2), ('and', '', 2), ('all', '', 2), ('users', '', 2), ('having', '', 2), ('access', '', 2), ('to', '', 2), ('it', '', 2), ('will', '', 2), ('be', '', 2), ('reviewed', '', 2), ('.', '', 2)]\n",
      "Entities [('Fraud Strategy', 'source_data'), ('yearly', 'frequency')]\n",
      "Tokens [('Fraud', 'source_data', 3), ('Strategy', 'source_data', 1), ('follows', '', 2), ('the', '', 2), ('roadmap', '', 2), ('rolled', '', 2), ('out', '', 2), ('by', '', 2), ('Group', '', 2), ('on', '', 2), ('a', '', 2), ('yearly', 'frequency', 3), ('basis', '', 2), ('including', '', 2), ('system', '', 2), ('updates', '', 2), ('and', '', 2), ('implementation', '', 2), ('.', '', 2), ('The', '', 2), ('population', '', 2), ('is', '', 2), ('therefore', '', 2), ('considered', '', 2), ('to', '', 2), ('be', '', 2), ('1', '', 2), ('and', '', 2), ('a', '', 2), ('sample', '', 2), ('of', '', 2), ('1', '', 2), ('will', '', 2), ('be', '', 2), ('reviewed', '', 2), ('.', '', 2)]\n",
      "Entities []\n",
      "Tokens [('There', '', 2), ('is', '', 2), ('only', '', 2), ('one', '', 2), ('job', '', 2), ('description', '', 2), ('for', '', 2), ('the', '', 2), ('Fraud', '', 2), ('Strategy', '', 2), ('team', '', 2), ('and', '', 2), ('it', '', 2), ('is', '', 2), ('updated', '', 2), ('when', '', 2), ('a', '', 2), ('position', '', 2), ('becomes', '', 2), ('vacant', '', 2), ('(', '', 2), ('the', '', 2), ('last', '', 2), ('position', '', 2), ('advertised', '', 2), ('for', '', 2), ('was', '', 2), ('in', '', 2), ('January', '', 2), ('of', '', 2), ('2017', '', 2), (')', '', 2), ('.', '', 2), ('The', '', 2), ('population', '', 2), ('is', '', 2), ('therefore', '', 2), ('considered', '', 2), ('to', '', 2), ('be', '', 2), ('1', '', 2), ('and', '', 2), ('a', '', 2), ('sample', '', 2), ('of', '', 2), ('1', '', 2), ('will', '', 2), ('be', '', 2), ('reviewed', '', 2), ('.', '', 2)]\n",
      "Entities [('PLA', 'source_data'), ('annual', 'frequency')]\n",
      "Tokens [('There', '', 2), ('is', '', 2), ('only', '', 2), ('one', '', 2), ('PLA', 'source_data', 3), ('that', '', 2), ('is', '', 2), ('signed', '', 2), ('between', '', 2), ('Business', '', 2), ('and', '', 2), ('IT', '', 2), ('and', '', 2), ('is', '', 2), ('reviewed', '', 2), ('and', '', 2), ('signed', '', 2), ('at', '', 2), ('least', '', 2), ('on', '', 2), ('an', '', 2), ('annual', 'frequency', 3), ('basis', '', 2), ('.', '', 2)]\n",
      "Entities [('Job descriptions for FCC staff', 'source_data'), ('annually', 'frequency')]\n",
      "Tokens [('Population', '', 2), ('is', '', 2), ('the', '', 2), ('10', '', 2), ('FCC', '', 2), ('staff', '', 2), ('in', '', 2), ('HMLG', '', 2), ('.', '', 2), ('Job', 'source_data', 3), ('descriptions', 'source_data', 1), ('for', 'source_data', 1), ('FCC', 'source_data', 1), ('staff', 'source_data', 1), ('are', '', 2), ('reviewed', '', 2), ('annually', 'frequency', 3), ('and', '', 2), ('it', '', 2), ('was', '', 2), ('proposed', '', 2), ('to', '', 2), ('test', '', 2), ('whether', '', 2), ('job', '', 2), ('descriptions', '', 2), ('include', '', 2), ('adequate', '', 2), ('reference', '', 2), ('to', '', 2), ('control', '', 2), ('of', '', 2), ('financial', '', 2), ('crime', '', 2), ('risk', '', 2), ('.', '', 2)]\n",
      "Entities []\n",
      "Tokens [('A', '', 2), ('TPSR', '', 2), ('review', '', 2), ('was', '', 2), ('conducted', '', 2), ('at', '', 2), ('HBCA', '', 2), ('level', '', 2), ('when', '', 2), ('Vantiv', '', 2), ('was', '', 2), ('onboarded', '', 2), ('through', '', 2), ('procurement', '', 2), ('for', '', 2), ('the', '', 2), ('launch', '', 2), ('of', '', 2), ('the', '', 2), ('Canada', '', 2), ('corporate', '', 2), ('credit', '', 2), ('cards', '', 2), ('in', '', 2), ('2016', '', 2), ('.', '', 2), ('The', '', 2), ('population', '', 2), ('is', '', 2), ('therefore', '', 2), ('considered', '', 2), ('to', '', 2), ('be', '', 2), ('1', '', 2), ('and', '', 2), ('a', '', 2), ('sample', '', 2), ('of', '', 2), ('1', '', 2), ('will', '', 2), ('be', '', 2), ('reviewed', '', 2), ('.', '', 2)]\n",
      "Entities [('GO CEMM meetings', 'source_data'), ('monthly', 'frequency')]\n",
      "Tokens [('GO', 'source_data', 3), ('CEMM', 'source_data', 1), ('meetings', 'source_data', 1), ('are', '', 2), ('held', '', 2), ('monthly', 'frequency', 3), ('corresponding', '', 2), ('to', '', 2), ('a', '', 2), ('total', '', 2), ('population', '', 2), ('for', '', 2), ('the', '', 2), ('last', '', 2), ('12', '', 2), ('months', '', 2), ('of', '', 2), ('12', '', 2), ('meetings', '', 2), ('.', '', 2), ('The', '', 2), ('framework', '', 2), ('is', '', 2), ('well', '', 2), ('established', '', 2), ('and', '', 2), ('aligned', '', 2), ('to', '', 2), ('Global', '', 2), ('HSBC', '', 2), ('Control', '', 2), ('Environment', '', 2), ('Monitoring', '', 2), ('Meeting', '', 2), ('framework', '', 2), ('.', '', 2)]\n",
      "Entities []\n",
      "Tokens [('The', '', 2), ('whole', '', 2), ('population', '', 2), ('was', '', 2), ('selected', '', 2), ('as', '', 2), ('it', '', 2), ('contained', '', 2), ('all', '', 2), ('users', '', 2), ('with', '', 2), ('query', '', 2), ('and', '', 2), ('update', '', 2), ('access', '', 2), ('including', '', 2), ('system', '', 2), ('and', '', 2), ('application', '', 2), ('accounts', '', 2)]\n"
     ]
    },
    {
     "name": "stdout",
     "output_type": "stream",
     "text": [
      "Entities [('monthly and quarterly', 'frequency'), ('operation meetings', 'source_data'), ('business reviews', 'source_data')]\n",
      "Tokens [('Vantiv', '', 2), ('meets', '', 2), ('with', '', 2), ('HBCA', '', 2), ('on', '', 2), ('a', '', 2), ('monthly', 'frequency', 3), ('and', 'frequency', 1), ('quarterly', 'frequency', 1), ('basis', '', 2), ('for', '', 2), ('operation', 'source_data', 3), ('meetings', 'source_data', 1), ('and', '', 2), ('quarterly', '', 2), ('business', 'source_data', 3), ('reviews', 'source_data', 1), ('respectively', '', 2), ('.', '', 2), ('The', '', 2), ('population', '', 2), ('is', '', 2), ('therefore', '', 2), ('considered', '', 2), ('to', '', 2), ('be', '', 2), ('4', '', 2), ('and', '', 2), ('12', '', 2), (',', '', 2), ('and', '', 2), ('a', '', 2), ('sample', '', 2), ('of', '', 2), ('1', '', 2), ('quarterly', '', 2), ('meeting', '', 2), ('and', '', 2), ('2', '', 2), ('monthly', '', 2), ('meetings', '', 2), ('will', '', 2), ('be', '', 2), ('selected', '', 2), ('for', '', 2), ('testing', '', 2), ('.', '', 2)]\n",
      "Entities [('benefit monitoring reports', 'source_data'), ('monthly', 'frequency')]\n",
      "Tokens [('The', '', 2), ('benefit', 'source_data', 3), ('monitoring', 'source_data', 1), ('reports', 'source_data', 1), ('are', '', 2), ('produced', '', 2), ('on', '', 2), ('a', '', 2), ('monthly', 'frequency', 3), ('basis', '', 2), (',', '', 2), ('there', '', 2), ('is', '', 2), ('therefore', '', 2), ('a', '', 2), ('total', '', 2), ('population', '', 2), ('of', '', 2), ('12', '', 2), ('in', '', 2), ('the', '', 2), ('year', '', 2), ('and', '', 2), ('a', '', 2), ('sample', '', 2), ('of', '', 2), ('2', '', 2), ('will', '', 2), ('be', '', 2), ('selected', '', 2), ('for', '', 2), ('testing', '', 2), ('.', '', 2)]\n",
      "Entities [('BCP', 'source_data'), ('annual', 'frequency')]\n",
      "Tokens [('BCP', 'source_data', 3), ('is', '', 2), ('reviewed', '', 2), ('and', '', 2), ('updated', '', 2), ('at', '', 2), ('least', '', 2), ('on', '', 2), ('an', '', 2), ('annual', 'frequency', 3), ('basis', '', 2), ('.', '', 2), ('As', '', 2), ('a', '', 2), ('result', '', 2), ('only', '', 2), ('one', '', 2), ('sample', '', 2), ('is', '', 2), ('reviewed', '', 2)]\n",
      "Entities [('monthly', 'frequency'), ('tracker and action logs', 'source_data')]\n",
      "Tokens [('The', '', 2), ('monthly', 'frequency', 3), ('tracker', 'source_data', 3), ('and', 'source_data', 1), ('action', 'source_data', 1), ('logs', 'source_data', 1), ('for', '', 2), ('the', '', 2), ('previous', '', 2), ('12', '', 2), ('months', '', 2), ('.', '', 2)]\n",
      "Entities [('monthly', 'frequency'), ('committees', 'source_data')]\n",
      "Tokens [('MI', '', 2), ('that', '', 2), ('is', '', 2), ('produced', '', 2), ('for', '', 2), ('monthly', 'frequency', 3), ('committees', 'source_data', 3), ('for', '', 2), ('the', '', 2), ('previous', '', 2), ('12', '', 2), ('months', '', 2), ('.', '', 2)]\n",
      "Entities [('KPI', 'source_data'), ('annual', 'frequency')]\n",
      "Tokens [('KPI', 'source_data', 3), (\"'s\", '', 2), ('are', '', 2), ('defined', '', 2), ('and', '', 2), ('reviewed', '', 2), ('at', '', 2), ('least', '', 2), ('on', '', 2), ('an', '', 2), ('annual', 'frequency', 3), ('basis', '', 2), ('when', '', 2), ('the', '', 2), ('PLA', '', 2), ('is', '', 2), ('reviewed', '', 2), ('.', '', 2)]\n",
      "Entities []\n",
      "Tokens [(' ', '', 2), ('The', '', 2), ('permissions', '', 2), ('granted', '', 2), ('for', '', 2), ('all', '', 2), ('user', '', 2), ('groups', '', 2), ('having', '', 2), ('access', '', 2), ('to', '', 2), ('the', '', 2), ('folder', '', 2), ('will', '', 2), ('be', '', 2), ('reviewed', '', 2), (';', '', 2)]\n",
      "Entities []\n",
      "Tokens [('The', '', 2), ('population', '', 2), ('is', '', 2), ('the', '', 2), ('committee', '', 2), ('packs', '', 2), ('and', '', 2), ('minutes', '', 2), ('for', '', 2), ('the', '', 2), ('preceding', '', 2), ('12', '', 2), ('months', '', 2), ('.', '', 2)]\n",
      "Entities []\n",
      "Tokens [('Control', '', 2), ('is', '', 2), ('adhoc', '', 2), ('and', '', 2), ('based', '', 2), ('on', '', 2), ('the', '', 2), ('number', '', 2), ('of', '', 2), ('changes', '', 2), ('5', '', 2), ('-', '', 2), ('12', '', 2), ('in', '', 2), ('2016', '', 2), (',', '', 2), ('therefore', '', 2), ('a', '', 2), ('sample', '', 2), ('of', '', 2), ('4', '', 2), ('is', '', 2), ('required', '', 2), ('.', '', 2), ('However', '', 2), (',', '', 2), ('the', '', 2), ('sample', '', 2), ('size', '', 2), ('is', '', 2), ('increased', '', 2), ('to', '', 2), ('10', '', 2), ('to', '', 2), ('include', '', 2), ('more', '', 2), ('fraud', '', 2), ('type', '', 2), ('scenarios', '', 2), ('.', '', 2)]\n",
      "Entities [('analysis reports', 'source_data'), ('monthly', 'frequency')]\n",
      "Tokens [('The', '', 2), ('customer', '', 2), ('complaints', '', 2), ('root', '', 2), ('cause', '', 2), ('analysis', 'source_data', 3), ('reports', 'source_data', 1), ('are', '', 2), ('produced', '', 2), ('on', '', 2), ('a', '', 2), ('monthly', 'frequency', 3), ('basis', '', 2), (',', '', 2), ('there', '', 2), ('is', '', 2), ('therefore', '', 2), ('a', '', 2), ('total', '', 2), ('population', '', 2), ('of', '', 2), ('12', '', 2), ('in', '', 2), ('the', '', 2), ('year', '', 2), ('and', '', 2), ('a', '', 2), ('sample', '', 2), ('of', '', 2), ('2', '', 2), ('will', '', 2), ('be', '', 2), ('selected', '', 2), ('for', '', 2), ('testing', '', 2), ('.', '', 2)]\n",
      "Entities [('monthly', 'frequency'), ('review', 'control_verb'), ('Governanace Meeting', 'source_data')]\n",
      "Tokens [('The', '', 2), ('Outsourcing', '', 2), ('Governance', '', 2), ('meetings', '', 2), ('have', '', 2), ('been', '', 2), ('established', '', 2), ('in', '', 2), ('January', '', 2), ('2017', '', 2), ('and', '', 2), ('held', '', 2), ('monthly', 'frequency', 3), ('thererefore', '', 2), ('INA', '', 2), ('will', '', 2), ('be', '', 2), ('able', '', 2), ('to', '', 2), ('review', 'control_verb', 3), ('documentation', '', 2), ('in', '', 2), ('relation', '', 2), ('to', '', 2), ('the', '', 2), ('last', '', 2), ('2', '', 2), ('meetings', '', 2), ('.', '', 2), ('The', '', 2), ('total', '', 2), ('population', '', 2), ('consists', '', 2), ('of', '', 2), ('only', '', 2), ('2', '', 2), ('meetings', '', 2), ('which', '', 2), ('are', '', 2), ('the', '', 2), ('one', '', 2), ('held', '', 2), ('since', '', 2), ('the', '', 2), ('Global', '', 2), ('Operations', '', 2), ('Outsourcing', '', 2), ('Governanace', 'source_data', 3), ('Meeting', 'source_data', 1), ('was', '', 2), ('established', '', 2), ('.', '', 2)]\n",
      "Entities [('fraud performance reviews', 'source_data'), ('monthly', 'frequency')]\n",
      "Tokens [('The', '', 2), ('fraud', 'source_data', 3), ('performance', 'source_data', 1), ('reviews', 'source_data', 1), ('are', '', 2), ('produced', '', 2), ('on', '', 2), ('a', '', 2), ('monthly', 'frequency', 3), ('basis', '', 2), (',', '', 2), ('there', '', 2), ('is', '', 2), ('therefore', '', 2), ('a', '', 2), ('total', '', 2), ('population', '', 2), ('of', '', 2), ('12', '', 2), ('in', '', 2), ('the', '', 2), ('year', '', 2), ('and', '', 2), ('a', '', 2), ('sample', '', 2), ('of', '', 2), ('2', '', 2), ('will', '', 2), ('be', '', 2), ('selected', '', 2), ('for', '', 2), ('testing', '', 2), ('.', '', 2)]\n",
      "Entities [('RMM fraud reports', 'source_data'), ('monthly', 'frequency')]\n",
      "Tokens [('The', '', 2), ('RMM', 'source_data', 3), ('fraud', 'source_data', 1), ('reports', 'source_data', 1), ('are', '', 2), ('produced', '', 2), ('on', '', 2), ('a', '', 2), ('monthly', 'frequency', 3), ('basis', '', 2), (',', '', 2), ('there', '', 2), ('is', '', 2), ('therefore', '', 2), ('a', '', 2), ('total', '', 2), ('population', '', 2), ('of', '', 2), ('12', '', 2), ('in', '', 2), ('the', '', 2), ('year', '', 2), ('and', '', 2), ('a', '', 2), ('sample', '', 2), ('of', '', 2), ('2', '', 2), ('will', '', 2), ('be', '', 2), ('selected', '', 2), ('for', '', 2), ('testing', '', 2), ('.', '', 2)]\n",
      "Entities []\n",
      "Tokens [(' ', '', 2), ('Through', '', 2), ('participation', '', 2), ('to', '', 2), ('the', '', 2), ('monthly', '', 2), ('meetings', '', 2), ('with', '', 2), ('Vantiv', '', 2), (',', '', 2), ('Fraud', '', 2), ('Strategy', '', 2), ('should', '', 2), ('exercise', '', 2), ('oversight', '', 2), ('on', '', 2), ('rule', '', 2), ('changes', '', 2), ('and', '', 2), ('rule', '', 2), ('effectiveness', '', 2), ('.', '', 2), ('The', '', 2), ('population', '', 2), ('is', '', 2), ('therefore', '', 2), ('considered', '', 2), ('to', '', 2), ('be', '', 2), ('12', '', 2), ('and', '', 2), ('a', '', 2), ('sample', '', 2), ('of', '', 2), ('2', '', 2), ('will', '', 2), ('be', '', 2), ('selected', '', 2), ('for', '', 2), ('testing', '', 2), ('.', '', 2)]\n",
      "Entities [('fraud losses', 'source_data'), ('monthly', 'frequency')]\n",
      "Tokens [('The', '', 2), ('fraud', 'source_data', 3), ('losses', 'source_data', 1), ('are', '', 2), ('reconciled', '', 2), ('against', '', 2), ('risk', '', 2), ('appetite', '', 2), ('on', '', 2), ('a', '', 2), ('monthly', 'frequency', 3), ('basis', '', 2), (',', '', 2), ('there', '', 2), ('is', '', 2), ('therefore', '', 2), ('a', '', 2), ('total', '', 2), ('population', '', 2), ('of', '', 2), ('12', '', 2), ('in', '', 2), ('the', '', 2), ('year', '', 2), ('and', '', 2), ('a', '', 2), ('sample', '', 2), ('of', '', 2), ('2', '', 2), ('will', '', 2), ('be', '', 2), ('selected', '', 2), ('for', '', 2), ('testing', '', 2), ('.', '', 2)]\n",
      "Entities []\n",
      "Tokens [('A', '', 2), ('list', '', 2), ('of', '', 2), ('the', '', 2), ('release', '', 2), ('changes', '', 2), ('for', '', 2), ('the', '', 2), ('last', '', 2), ('year', '', 2), ('was', '', 2), ('obtained', '', 2), ('.', '', 2), ('Three', '', 2), ('releases', '', 2), ('were', '', 2), ('completed', '', 2), (',', '', 2), ('two', '', 2), ('were', '', 2), ('in', '', 2), ('Prod', '', 2), ('and', '', 2), ('one', '', 2), ('in', '', 2), ('DR', '', 2), ('.', '', 2), ('The', '', 2), ('two', '', 2), ('changes', '', 2), ('in', '', 2), ('PROD', '', 2), ('were', '', 2), ('included', '', 2), ('in', '', 2), ('sample', '', 2)]\n"
     ]
    }
   ],
   "source": [
    "# test the trained \n",
    "for text, _ in train_data:\n",
    "    doc=nlp(text)\n",
    "    print('Entities', [(ent.text, ent.label_) for ent in doc.ents])\n",
    "    print('Tokens', [(t.text, t.ent_type_, t.ent_iob) for t in doc])"
   ]
  },
  {
   "cell_type": "code",
   "execution_count": 19,
   "metadata": {},
   "outputs": [
    {
     "name": "stdout",
     "output_type": "stream",
     "text": [
      "Save model to /Users/liver/jupyter/audit-pop1-ner-train\n"
     ]
    }
   ],
   "source": [
    "#save the model \n",
    "if output_dir is not None: \n",
    "    output_dir=Path(output_dir)\n",
    "    if not output_dir.exists(): \n",
    "        output_dir.mkdir()\n",
    "    nlp.to_disk(output_dir)\n",
    "    print(\"Save model to\", output_dir)"
   ]
  },
  {
   "cell_type": "code",
   "execution_count": null,
   "metadata": {},
   "outputs": [],
   "source": []
  },
  {
   "cell_type": "code",
   "execution_count": null,
   "metadata": {},
   "outputs": [],
   "source": []
  }
 ],
 "metadata": {
  "kernelspec": {
   "display_name": "Python 3",
   "language": "python",
   "name": "python3"
  },
  "language_info": {
   "codemirror_mode": {
    "name": "ipython",
    "version": 3
   },
   "file_extension": ".py",
   "mimetype": "text/x-python",
   "name": "python",
   "nbconvert_exporter": "python",
   "pygments_lexer": "ipython3",
   "version": "3.6.4"
  }
 },
 "nbformat": 4,
 "nbformat_minor": 2
}
